{
 "cells": [
  {
   "cell_type": "code",
   "execution_count": 1,
   "id": "c1824a51",
   "metadata": {},
   "outputs": [],
   "source": [
    "x = {}"
   ]
  },
  {
   "cell_type": "code",
   "execution_count": 3,
   "id": "ffed4b19",
   "metadata": {},
   "outputs": [
    {
     "data": {
      "text/plain": [
       "dict"
      ]
     },
     "execution_count": 3,
     "metadata": {},
     "output_type": "execute_result"
    }
   ],
   "source": [
    "type(x)  # as we see this is a set the {}  use for also dictionaries but \n",
    "#in dict. we have key and values thats the difference"
   ]
  },
  {
   "cell_type": "code",
   "execution_count": 1,
   "id": "340f532f",
   "metadata": {},
   "outputs": [],
   "source": [
    "x = {\"first_name\" :\"khan\",\"last_name\":\"shayan\"}"
   ]
  },
  {
   "cell_type": "code",
   "execution_count": 2,
   "id": "a71caedb",
   "metadata": {},
   "outputs": [
    {
     "data": {
      "text/plain": [
       "{'first_name': 'khan', 'last_name': 'shayan'}"
      ]
     },
     "execution_count": 2,
     "metadata": {},
     "output_type": "execute_result"
    }
   ],
   "source": [
    "x"
   ]
  },
  {
   "cell_type": "code",
   "execution_count": 10,
   "id": "1acace55",
   "metadata": {},
   "outputs": [],
   "source": [
    "b = {\"first_name\" :\"khan\",\"last_name\":\"shayan\",\"first_name\" :\"khan\"}"
   ]
  },
  {
   "cell_type": "code",
   "execution_count": 11,
   "id": "86db2827",
   "metadata": {},
   "outputs": [
    {
     "data": {
      "text/plain": [
       "{'first_name': 'khan', 'last_name': 'shayan'}"
      ]
     },
     "execution_count": 11,
     "metadata": {},
     "output_type": "execute_result"
    }
   ],
   "source": [
    "b # dictionary will not show u duplicates"
   ]
  },
  {
   "cell_type": "code",
   "execution_count": 12,
   "id": "8dc3892c",
   "metadata": {},
   "outputs": [],
   "source": [
    "b = {\"first_name\" :\"khan\",\"last_name\":\"shayan\",\"first_name\" :\"ball\"}"
   ]
  },
  {
   "cell_type": "code",
   "execution_count": 14,
   "id": "d0adedbe",
   "metadata": {},
   "outputs": [
    {
     "data": {
      "text/plain": [
       "{'first_name': 'ball', 'last_name': 'shayan'}"
      ]
     },
     "execution_count": 14,
     "metadata": {},
     "output_type": "execute_result"
    }
   ],
   "source": [
    "b# so only the last key which we give of duplicate will be shown"
   ]
  },
  {
   "cell_type": "code",
   "execution_count": 20,
   "id": "b28fef26",
   "metadata": {},
   "outputs": [],
   "source": [
    "b = {\"first_name\" :\"khan\",\"last_name\":\"shayan\",\"first_name\":[\"khan\"]}"
   ]
  },
  {
   "cell_type": "code",
   "execution_count": 22,
   "id": "962834e6",
   "metadata": {},
   "outputs": [
    {
     "data": {
      "text/plain": [
       "{'first_name': ['khan'], 'last_name': 'shayan'}"
      ]
     },
     "execution_count": 22,
     "metadata": {},
     "output_type": "execute_result"
    }
   ],
   "source": [
    "b# here i can save value as a list set or tuples in it also"
   ]
  },
  {
   "cell_type": "code",
   "execution_count": 32,
   "id": "9e331155",
   "metadata": {},
   "outputs": [],
   "source": [
    "x2 = {\"name\" :{\"khan\"},\"last_name\":\"shayan\",\"first_name\":[\"apple\"]}"
   ]
  },
  {
   "cell_type": "code",
   "execution_count": 33,
   "id": "6f7d829f",
   "metadata": {},
   "outputs": [
    {
     "data": {
      "text/plain": [
       "{'name': {'khan'}, 'last_name': 'shayan', 'first_name': ['apple']}"
      ]
     },
     "execution_count": 33,
     "metadata": {},
     "output_type": "execute_result"
    }
   ],
   "source": [
    "x2# we can also creat dic in dictionary as a value"
   ]
  },
  {
   "cell_type": "code",
   "execution_count": 34,
   "id": "0a322b32",
   "metadata": {},
   "outputs": [],
   "source": [
    "x3 = {(\"name\") :{\"khan\"},\"last_name\":\"shayan\",\"first_name\":[\"apple\"]}"
   ]
  },
  {
   "cell_type": "code",
   "execution_count": 36,
   "id": "a3c955b2",
   "metadata": {},
   "outputs": [
    {
     "data": {
      "text/plain": [
       "{'name': {'khan'}, 'last_name': 'shayan', 'first_name': ['apple']}"
      ]
     },
     "execution_count": 36,
     "metadata": {},
     "output_type": "execute_result"
    }
   ],
   "source": [
    "x3#key wise only tuple u can store not set not list "
   ]
  },
  {
   "cell_type": "markdown",
   "id": "dd25e414",
   "metadata": {},
   "source": [
    "### data access"
   ]
  },
  {
   "cell_type": "code",
   "execution_count": 37,
   "id": "bc48d489",
   "metadata": {},
   "outputs": [
    {
     "data": {
      "text/plain": [
       "{'khan'}"
      ]
     },
     "execution_count": 37,
     "metadata": {},
     "output_type": "execute_result"
    }
   ],
   "source": [
    "x3 = {\"name\" :{\"khan\"},\"last_name\":\"shayan\",\"first_name\":\"apple\"}\n",
    "x3[\"name\"]\n"
   ]
  },
  {
   "cell_type": "code",
   "execution_count": 39,
   "id": "3b8e1b5b",
   "metadata": {},
   "outputs": [
    {
     "data": {
      "text/plain": [
       "'shayan'"
      ]
     },
     "execution_count": 39,
     "metadata": {},
     "output_type": "execute_result"
    }
   ],
   "source": [
    "x3 = {\"name\" :{\"khan\"},\"last_name\":\"shayan\",\"first_name\":\"apple\"}\n",
    "x3[\"last_name\"]\n",
    "#pass keys and you will get values\n"
   ]
  },
  {
   "cell_type": "code",
   "execution_count": 65,
   "id": "d532e604",
   "metadata": {},
   "outputs": [
    {
     "data": {
      "text/plain": [
       "{'name': 'khan',\n",
       " 'last_name': 'shayan',\n",
       " 'first_name': 'apple',\n",
       " 'number': [1, 2, 3, 4]}"
      ]
     },
     "execution_count": 65,
     "metadata": {},
     "output_type": "execute_result"
    }
   ],
   "source": [
    "x3 = {\"name\" :\"khan\",\"last_name\":\"shayan\",\"first_name\":\"apple\",\"number\":[1,2,3,4]}\n",
    "\n",
    "x3"
   ]
  },
  {
   "cell_type": "code",
   "execution_count": 58,
   "id": "06225248",
   "metadata": {},
   "outputs": [],
   "source": [
    "#now get 3 in that key name number"
   ]
  },
  {
   "cell_type": "code",
   "execution_count": 61,
   "id": "044a170a",
   "metadata": {},
   "outputs": [
    {
     "data": {
      "text/plain": [
       "3"
      ]
     },
     "execution_count": 61,
     "metadata": {},
     "output_type": "execute_result"
    }
   ],
   "source": [
    "x3['number'][2]"
   ]
  },
  {
   "cell_type": "code",
   "execution_count": 54,
   "id": "2cbd3fef",
   "metadata": {},
   "outputs": [
    {
     "data": {
      "text/plain": [
       "{'name': {'khan'},\n",
       " 'last_name': 'shayan',\n",
       " 'first_name': 'apple',\n",
       " 'number': '[1,2,3,4]'}"
      ]
     },
     "execution_count": 54,
     "metadata": {},
     "output_type": "execute_result"
    }
   ],
   "source": []
  },
  {
   "cell_type": "code",
   "execution_count": 72,
   "id": "6a188165",
   "metadata": {},
   "outputs": [],
   "source": [
    "a = {\"name\":{\"age\":[20,30,555]},\"adress\":\"NY\"}"
   ]
  },
  {
   "cell_type": "code",
   "execution_count": 73,
   "id": "ada9cf90",
   "metadata": {},
   "outputs": [
    {
     "data": {
      "text/plain": [
       "{'name': {'age': [20, 30, 555]}, 'adress': 'NY'}"
      ]
     },
     "execution_count": 73,
     "metadata": {},
     "output_type": "execute_result"
    }
   ],
   "source": [
    "a"
   ]
  },
  {
   "cell_type": "code",
   "execution_count": 74,
   "id": "971fa0a9",
   "metadata": {},
   "outputs": [
    {
     "data": {
      "text/plain": [
       "20"
      ]
     },
     "execution_count": 74,
     "metadata": {},
     "output_type": "execute_result"
    }
   ],
   "source": [
    "a[\"name\"][\"age\"][0]"
   ]
  },
  {
   "cell_type": "code",
   "execution_count": 75,
   "id": "45dd46e9",
   "metadata": {},
   "outputs": [],
   "source": [
    "x1 = {\"name\":\"age\",\"school\":\"xyz\"}"
   ]
  },
  {
   "cell_type": "code",
   "execution_count": 76,
   "id": "7de733d4",
   "metadata": {},
   "outputs": [],
   "source": [
    "x2={\"age\":34}"
   ]
  },
  {
   "cell_type": "code",
   "execution_count": 80,
   "id": "7830d06c",
   "metadata": {},
   "outputs": [
    {
     "ename": "TypeError",
     "evalue": "unsupported operand type(s) for +: 'dict' and 'dict'",
     "output_type": "error",
     "traceback": [
      "\u001b[0;31m---------------------------------------------------------------------------\u001b[0m",
      "\u001b[0;31mTypeError\u001b[0m                                 Traceback (most recent call last)",
      "Input \u001b[0;32mIn [80]\u001b[0m, in \u001b[0;36m<cell line: 1>\u001b[0;34m()\u001b[0m\n\u001b[0;32m----> 1\u001b[0m \u001b[43mx1\u001b[49m\u001b[43m \u001b[49m\u001b[38;5;241;43m+\u001b[39;49m\u001b[43m \u001b[49m\u001b[43mx2\u001b[49m\n",
      "\u001b[0;31mTypeError\u001b[0m: unsupported operand type(s) for +: 'dict' and 'dict'"
     ]
    }
   ],
   "source": [
    "x1 + x2   # so we observe we can not do + operation as we do in list"
   ]
  },
  {
   "cell_type": "code",
   "execution_count": 81,
   "id": "526d26f4",
   "metadata": {},
   "outputs": [
    {
     "ename": "TypeError",
     "evalue": "unsupported operand type(s) for *: 'dict' and 'int'",
     "output_type": "error",
     "traceback": [
      "\u001b[0;31m---------------------------------------------------------------------------\u001b[0m",
      "\u001b[0;31mTypeError\u001b[0m                                 Traceback (most recent call last)",
      "Input \u001b[0;32mIn [81]\u001b[0m, in \u001b[0;36m<cell line: 1>\u001b[0;34m()\u001b[0m\n\u001b[0;32m----> 1\u001b[0m \u001b[43mx1\u001b[49m\u001b[43m \u001b[49m\u001b[38;5;241;43m*\u001b[39;49m\u001b[43m \u001b[49m\u001b[38;5;241;43m2\u001b[39;49m\n",
      "\u001b[0;31mTypeError\u001b[0m: unsupported operand type(s) for *: 'dict' and 'int'"
     ]
    }
   ],
   "source": [
    "x1 * 2 # we can not do multipilcation operation as we do in list"
   ]
  },
  {
   "cell_type": "markdown",
   "id": "41a8afc3",
   "metadata": {},
   "source": [
    "### changing value"
   ]
  },
  {
   "cell_type": "code",
   "execution_count": 83,
   "id": "b27586d2",
   "metadata": {},
   "outputs": [
    {
     "data": {
      "text/plain": [
       "{'age': 34}"
      ]
     },
     "execution_count": 83,
     "metadata": {},
     "output_type": "execute_result"
    }
   ],
   "source": [
    "x2 #replacing value with name"
   ]
  },
  {
   "cell_type": "code",
   "execution_count": 84,
   "id": "c54e4b5c",
   "metadata": {},
   "outputs": [],
   "source": [
    "x2[\"age\"]=\"muhammad\""
   ]
  },
  {
   "cell_type": "code",
   "execution_count": 85,
   "id": "e6787b66",
   "metadata": {},
   "outputs": [
    {
     "data": {
      "text/plain": [
       "{'age': 'muhammad'}"
      ]
     },
     "execution_count": 85,
     "metadata": {},
     "output_type": "execute_result"
    }
   ],
   "source": [
    "x2"
   ]
  },
  {
   "cell_type": "markdown",
   "id": "76f64e03",
   "metadata": {},
   "source": [
    "+ done"
   ]
  },
  {
   "cell_type": "code",
   "execution_count": 96,
   "id": "2f48ba05",
   "metadata": {},
   "outputs": [],
   "source": [
    "c1 = {\"name\":[23,44,66],\"first_name\":\"khan\"}"
   ]
  },
  {
   "cell_type": "code",
   "execution_count": 97,
   "id": "b219f059",
   "metadata": {},
   "outputs": [],
   "source": [
    "c1[\"name\"]=33"
   ]
  },
  {
   "cell_type": "code",
   "execution_count": 98,
   "id": "c3eadd72",
   "metadata": {},
   "outputs": [
    {
     "data": {
      "text/plain": [
       "{'name': 33, 'first_name': 'khan'}"
      ]
     },
     "execution_count": 98,
     "metadata": {},
     "output_type": "execute_result"
    }
   ],
   "source": [
    "c1"
   ]
  },
  {
   "cell_type": "code",
   "execution_count": 99,
   "id": "708fb0d0",
   "metadata": {},
   "outputs": [],
   "source": [
    "c1[\"name\"] -= 20"
   ]
  },
  {
   "cell_type": "code",
   "execution_count": 100,
   "id": "5b7d959e",
   "metadata": {},
   "outputs": [
    {
     "data": {
      "text/plain": [
       "{'name': 13, 'first_name': 'khan'}"
      ]
     },
     "execution_count": 100,
     "metadata": {},
     "output_type": "execute_result"
    }
   ],
   "source": [
    "c1"
   ]
  },
  {
   "cell_type": "markdown",
   "id": "e2cc4a6e",
   "metadata": {},
   "source": [
    "+ builtin functions"
   ]
  },
  {
   "cell_type": "code",
   "execution_count": 101,
   "id": "42fe7a3b",
   "metadata": {},
   "outputs": [
    {
     "data": {
      "text/plain": [
       "dict_keys(['name', 'first_name'])"
      ]
     },
     "execution_count": 101,
     "metadata": {},
     "output_type": "execute_result"
    }
   ],
   "source": [
    "c1.keys()"
   ]
  },
  {
   "cell_type": "code",
   "execution_count": 103,
   "id": "c3b485fa",
   "metadata": {},
   "outputs": [
    {
     "data": {
      "text/plain": [
       "True"
      ]
     },
     "execution_count": 103,
     "metadata": {},
     "output_type": "execute_result"
    }
   ],
   "source": [
    "\"name\" in c1.keys()"
   ]
  },
  {
   "cell_type": "markdown",
   "id": "8bfaf6da",
   "metadata": {},
   "source": [
    "+ printintg all keys"
   ]
  },
  {
   "cell_type": "code",
   "execution_count": 104,
   "id": "57628875",
   "metadata": {},
   "outputs": [
    {
     "name": "stdout",
     "output_type": "stream",
     "text": [
      "name\n",
      "first_name\n"
     ]
    }
   ],
   "source": [
    "for i in c1:\n",
    "    print(i)"
   ]
  },
  {
   "cell_type": "markdown",
   "id": "27fd03f4",
   "metadata": {},
   "source": [
    "+ getting all the values"
   ]
  },
  {
   "cell_type": "code",
   "execution_count": 108,
   "id": "38a055dc",
   "metadata": {},
   "outputs": [
    {
     "name": "stdout",
     "output_type": "stream",
     "text": [
      "13\n",
      "khan\n"
     ]
    }
   ],
   "source": [
    "for i in c1.keys():\n",
    "    print(c1[i]) "
   ]
  },
  {
   "cell_type": "markdown",
   "id": "1600885d",
   "metadata": {},
   "source": [
    "+ getting all keys"
   ]
  },
  {
   "cell_type": "code",
   "execution_count": 111,
   "id": "dd546227",
   "metadata": {},
   "outputs": [
    {
     "data": {
      "text/plain": [
       "dict_keys(['name', 'first_name'])"
      ]
     },
     "execution_count": 111,
     "metadata": {},
     "output_type": "execute_result"
    }
   ],
   "source": [
    "c1.keys()"
   ]
  },
  {
   "cell_type": "markdown",
   "id": "9e834a97",
   "metadata": {},
   "source": [
    "+ getting all types keys"
   ]
  },
  {
   "cell_type": "code",
   "execution_count": 114,
   "id": "cc1c126a",
   "metadata": {},
   "outputs": [
    {
     "name": "stdout",
     "output_type": "stream",
     "text": [
      "<class 'int'>\n",
      "<class 'str'>\n"
     ]
    }
   ],
   "source": [
    "for i in c1.keys():\n",
    "    print(type(c1[i]))"
   ]
  },
  {
   "cell_type": "markdown",
   "id": "4eba7e96",
   "metadata": {},
   "source": [
    "+ getting list of tuple of all keys n values"
   ]
  },
  {
   "cell_type": "code",
   "execution_count": 115,
   "id": "b7e11e52",
   "metadata": {},
   "outputs": [
    {
     "data": {
      "text/plain": [
       "dict_items([('name', 13), ('first_name', 'khan')])"
      ]
     },
     "execution_count": 115,
     "metadata": {},
     "output_type": "execute_result"
    }
   ],
   "source": [
    "c1.items()"
   ]
  },
  {
   "cell_type": "code",
   "execution_count": 116,
   "id": "72559d7e",
   "metadata": {},
   "outputs": [],
   "source": [
    "# task: print all the keys"
   ]
  },
  {
   "cell_type": "code",
   "execution_count": 119,
   "id": "8f293455",
   "metadata": {},
   "outputs": [
    {
     "name": "stdout",
     "output_type": "stream",
     "text": [
      "name\n",
      "first_name\n"
     ]
    }
   ],
   "source": [
    "for i in c1.items():\n",
    "    print(i[0]) #it will return all keys"
   ]
  },
  {
   "cell_type": "code",
   "execution_count": 121,
   "id": "1519ddef",
   "metadata": {},
   "outputs": [],
   "source": [
    "v1= {(2345,34,34):\"khan\"}"
   ]
  },
  {
   "cell_type": "code",
   "execution_count": 122,
   "id": "e9ae52dd",
   "metadata": {},
   "outputs": [
    {
     "data": {
      "text/plain": [
       "{(2345, 34, 34): 'khan'}"
      ]
     },
     "execution_count": 122,
     "metadata": {},
     "output_type": "execute_result"
    }
   ],
   "source": [
    "v1"
   ]
  },
  {
   "cell_type": "code",
   "execution_count": 124,
   "id": "1bbd4161",
   "metadata": {},
   "outputs": [
    {
     "data": {
      "text/plain": [
       "'khan'"
      ]
     },
     "execution_count": 124,
     "metadata": {},
     "output_type": "execute_result"
    }
   ],
   "source": [
    "v1[(2345,34,34)]"
   ]
  },
  {
   "cell_type": "code",
   "execution_count": 125,
   "id": "5e404513",
   "metadata": {},
   "outputs": [
    {
     "data": {
      "text/plain": [
       "1"
      ]
     },
     "execution_count": 125,
     "metadata": {},
     "output_type": "execute_result"
    }
   ],
   "source": [
    "len(v1)"
   ]
  },
  {
   "cell_type": "code",
   "execution_count": 202,
   "id": "aa051450",
   "metadata": {},
   "outputs": [],
   "source": [
    "#### problem statments\n",
    "#take input as paragprah by using input funtion\n",
    "#caonvert all of this input into list\n",
    "# remove all the duplicate element from list\n",
    "# use above different element as a key for dic and assign \"khan\"as values\n",
    "#your name as using  all key for dictionary\n",
    "#try to print tuple of all them"
   ]
  },
  {
   "cell_type": "code",
   "execution_count": 181,
   "id": "5e8e7be5",
   "metadata": {},
   "outputs": [
    {
     "name": "stdout",
     "output_type": "stream",
     "text": [
      "enter paragraph'Python is a popular programming language that can help you with everything from process automation through to data visualization. A huge 69% of machine learning a a a a developers and data scientists now use it\n"
     ]
    }
   ],
   "source": [
    "paragraph= input(\"enter paragraph\")\n",
    "    "
   ]
  },
  {
   "cell_type": "code",
   "execution_count": 182,
   "id": "9680065b",
   "metadata": {},
   "outputs": [],
   "source": [
    "list = paragraph.split(\" \")"
   ]
  },
  {
   "cell_type": "code",
   "execution_count": 183,
   "id": "17c04c46",
   "metadata": {},
   "outputs": [
    {
     "data": {
      "text/plain": [
       "[\"'Python\",\n",
       " 'is',\n",
       " 'a',\n",
       " 'popular',\n",
       " 'programming',\n",
       " 'language',\n",
       " 'that',\n",
       " 'can',\n",
       " 'help',\n",
       " 'you',\n",
       " 'with',\n",
       " 'everything',\n",
       " 'from',\n",
       " 'process',\n",
       " 'automation',\n",
       " 'through',\n",
       " 'to',\n",
       " 'data',\n",
       " 'visualization.',\n",
       " 'A',\n",
       " 'huge',\n",
       " '69%',\n",
       " 'of',\n",
       " 'machine',\n",
       " 'learning',\n",
       " 'a',\n",
       " 'a',\n",
       " 'a',\n",
       " 'a',\n",
       " 'developers',\n",
       " 'and',\n",
       " 'data',\n",
       " 'scientists',\n",
       " 'now',\n",
       " 'use',\n",
       " 'it']"
      ]
     },
     "execution_count": 183,
     "metadata": {},
     "output_type": "execute_result"
    }
   ],
   "source": [
    "list"
   ]
  },
  {
   "cell_type": "code",
   "execution_count": 184,
   "id": "c0f0278f",
   "metadata": {},
   "outputs": [],
   "source": [
    "s1 = set(list)"
   ]
  },
  {
   "cell_type": "code",
   "execution_count": 186,
   "id": "b874d425",
   "metadata": {},
   "outputs": [
    {
     "data": {
      "text/plain": [
       "{\"'Python\",\n",
       " '69%',\n",
       " 'A',\n",
       " 'a',\n",
       " 'and',\n",
       " 'automation',\n",
       " 'can',\n",
       " 'data',\n",
       " 'developers',\n",
       " 'everything',\n",
       " 'from',\n",
       " 'help',\n",
       " 'huge',\n",
       " 'is',\n",
       " 'it',\n",
       " 'language',\n",
       " 'learning',\n",
       " 'machine',\n",
       " 'now',\n",
       " 'of',\n",
       " 'popular',\n",
       " 'process',\n",
       " 'programming',\n",
       " 'scientists',\n",
       " 'that',\n",
       " 'through',\n",
       " 'to',\n",
       " 'use',\n",
       " 'visualization.',\n",
       " 'with',\n",
       " 'you'}"
      ]
     },
     "execution_count": 186,
     "metadata": {},
     "output_type": "execute_result"
    }
   ],
   "source": [
    "s1"
   ]
  },
  {
   "cell_type": "code",
   "execution_count": 190,
   "id": "3b270d63",
   "metadata": {},
   "outputs": [],
   "source": [
    "dic= dict.fromkeys(s1,\"khan\")"
   ]
  },
  {
   "cell_type": "code",
   "execution_count": 191,
   "id": "447c62cf",
   "metadata": {},
   "outputs": [
    {
     "data": {
      "text/plain": [
       "{'through': 'khan',\n",
       " 'data': 'khan',\n",
       " 'scientists': 'khan',\n",
       " 'that': 'khan',\n",
       " 'to': 'khan',\n",
       " 'learning': 'khan',\n",
       " 'process': 'khan',\n",
       " 'developers': 'khan',\n",
       " 'everything': 'khan',\n",
       " 'it': 'khan',\n",
       " 'automation': 'khan',\n",
       " 'huge': 'khan',\n",
       " 'popular': 'khan',\n",
       " 'visualization.': 'khan',\n",
       " 'a': 'khan',\n",
       " 'and': 'khan',\n",
       " 'machine': 'khan',\n",
       " 'of': 'khan',\n",
       " 'with': 'khan',\n",
       " 'help': 'khan',\n",
       " 'you': 'khan',\n",
       " '69%': 'khan',\n",
       " 'is': 'khan',\n",
       " 'A': 'khan',\n",
       " 'programming': 'khan',\n",
       " \"'Python\": 'khan',\n",
       " 'from': 'khan',\n",
       " 'now': 'khan',\n",
       " 'can': 'khan',\n",
       " 'language': 'khan',\n",
       " 'use': 'khan'}"
      ]
     },
     "execution_count": 191,
     "metadata": {},
     "output_type": "execute_result"
    }
   ],
   "source": [
    "dic"
   ]
  },
  {
   "cell_type": "code",
   "execution_count": 193,
   "id": "459bcdce",
   "metadata": {},
   "outputs": [],
   "source": [
    "t1 = tuple(dic.keys())"
   ]
  },
  {
   "cell_type": "code",
   "execution_count": 194,
   "id": "ced22c47",
   "metadata": {},
   "outputs": [
    {
     "data": {
      "text/plain": [
       "('through',\n",
       " 'data',\n",
       " 'scientists',\n",
       " 'that',\n",
       " 'to',\n",
       " 'learning',\n",
       " 'process',\n",
       " 'developers',\n",
       " 'everything',\n",
       " 'it',\n",
       " 'automation',\n",
       " 'huge',\n",
       " 'popular',\n",
       " 'visualization.',\n",
       " 'a',\n",
       " 'and',\n",
       " 'machine',\n",
       " 'of',\n",
       " 'with',\n",
       " 'help',\n",
       " 'you',\n",
       " '69%',\n",
       " 'is',\n",
       " 'A',\n",
       " 'programming',\n",
       " \"'Python\",\n",
       " 'from',\n",
       " 'now',\n",
       " 'can',\n",
       " 'language',\n",
       " 'use')"
      ]
     },
     "execution_count": 194,
     "metadata": {},
     "output_type": "execute_result"
    }
   ],
   "source": [
    "t1"
   ]
  },
  {
   "cell_type": "code",
   "execution_count": 197,
   "id": "e9867dcc",
   "metadata": {},
   "outputs": [],
   "source": [
    "l2=[t1]"
   ]
  },
  {
   "cell_type": "code",
   "execution_count": 198,
   "id": "fa6f5753",
   "metadata": {},
   "outputs": [
    {
     "data": {
      "text/plain": [
       "[('through',\n",
       "  'data',\n",
       "  'scientists',\n",
       "  'that',\n",
       "  'to',\n",
       "  'learning',\n",
       "  'process',\n",
       "  'developers',\n",
       "  'everything',\n",
       "  'it',\n",
       "  'automation',\n",
       "  'huge',\n",
       "  'popular',\n",
       "  'visualization.',\n",
       "  'a',\n",
       "  'and',\n",
       "  'machine',\n",
       "  'of',\n",
       "  'with',\n",
       "  'help',\n",
       "  'you',\n",
       "  '69%',\n",
       "  'is',\n",
       "  'A',\n",
       "  'programming',\n",
       "  \"'Python\",\n",
       "  'from',\n",
       "  'now',\n",
       "  'can',\n",
       "  'language',\n",
       "  'use')]"
      ]
     },
     "execution_count": 198,
     "metadata": {},
     "output_type": "execute_result"
    }
   ],
   "source": [
    "l2"
   ]
  },
  {
   "cell_type": "code",
   "execution_count": 213,
   "id": "f395f872",
   "metadata": {},
   "outputs": [],
   "source": [
    "d = {\"khan\":\"shayan\",\"course\":\"full stack data science\",\"year\":2021}"
   ]
  },
  {
   "cell_type": "code",
   "execution_count": 214,
   "id": "d1c65294",
   "metadata": {},
   "outputs": [
    {
     "name": "stdout",
     "output_type": "stream",
     "text": [
      "print a key : khan value : shayan\n",
      "print a key : course value : full stack data science\n",
      "print a key : year value : 2021\n"
     ]
    }
   ],
   "source": [
    "for i in d:\n",
    "    print(\"print a key :\"  ,i,\"value :\",d[i])"
   ]
  },
  {
   "cell_type": "code",
   "execution_count": 218,
   "id": "effb1c50",
   "metadata": {},
   "outputs": [
    {
     "data": {
      "text/plain": [
       "True"
      ]
     },
     "execution_count": 218,
     "metadata": {},
     "output_type": "execute_result"
    }
   ],
   "source": [
    "\"course\" in d"
   ]
  },
  {
   "cell_type": "code",
   "execution_count": 219,
   "id": "c8f0521d",
   "metadata": {},
   "outputs": [],
   "source": [
    "#to check weather if year is greater or equal to 2022 if yes then update"
   ]
  },
  {
   "cell_type": "code",
   "execution_count": 220,
   "id": "8e5b1e46",
   "metadata": {},
   "outputs": [
    {
     "name": "stdout",
     "output_type": "stream",
     "text": [
      "year is fine\n"
     ]
    }
   ],
   "source": [
    "for i in d:\n",
    "    if i == \"year\":\n",
    "        if d[i]>2021:\n",
    "            print(\"year is fine\")\n",
    "        else:\n",
    "            d[i] = 2022"
   ]
  },
  {
   "cell_type": "code",
   "execution_count": 221,
   "id": "85544296",
   "metadata": {},
   "outputs": [
    {
     "data": {
      "text/plain": [
       "{'khan': 'shayan', 'course': 'full stack data science', 'year': 2022}"
      ]
     },
     "execution_count": 221,
     "metadata": {},
     "output_type": "execute_result"
    }
   ],
   "source": [
    "d"
   ]
  },
  {
   "cell_type": "code",
   "execution_count": 222,
   "id": "a88240d6",
   "metadata": {},
   "outputs": [],
   "source": [
    "my_dict= {}"
   ]
  },
  {
   "cell_type": "code",
   "execution_count": 223,
   "id": "5e868e16",
   "metadata": {},
   "outputs": [],
   "source": [
    "for i in range(10):\n",
    "    my_dict[i]= i*i"
   ]
  },
  {
   "cell_type": "code",
   "execution_count": 224,
   "id": "db648698",
   "metadata": {},
   "outputs": [
    {
     "data": {
      "text/plain": [
       "{0: 0, 1: 1, 2: 4, 3: 9, 4: 16, 5: 25, 6: 36, 7: 49, 8: 64, 9: 81}"
      ]
     },
     "execution_count": 224,
     "metadata": {},
     "output_type": "execute_result"
    }
   ],
   "source": [
    "my_dict"
   ]
  },
  {
   "cell_type": "code",
   "execution_count": 226,
   "id": "360e3ba5",
   "metadata": {},
   "outputs": [
    {
     "data": {
      "text/plain": [
       "{0: 0, 1: 1, 2: 4, 3: 9, 4: 16, 5: 25, 6: 36, 7: 49, 8: 64, 9: 81}"
      ]
     },
     "execution_count": 226,
     "metadata": {},
     "output_type": "execute_result"
    }
   ],
   "source": [
    "#comphrehension operation\n",
    "{i:i*i for i in range(10)}"
   ]
  },
  {
   "cell_type": "code",
   "execution_count": null,
   "id": "cc0a0186",
   "metadata": {},
   "outputs": [],
   "source": []
  }
 ],
 "metadata": {
  "kernelspec": {
   "display_name": "Python 3 (ipykernel)",
   "language": "python",
   "name": "python3"
  },
  "language_info": {
   "codemirror_mode": {
    "name": "ipython",
    "version": 3
   },
   "file_extension": ".py",
   "mimetype": "text/x-python",
   "name": "python",
   "nbconvert_exporter": "python",
   "pygments_lexer": "ipython3",
   "version": "3.9.12"
  }
 },
 "nbformat": 4,
 "nbformat_minor": 5
}
